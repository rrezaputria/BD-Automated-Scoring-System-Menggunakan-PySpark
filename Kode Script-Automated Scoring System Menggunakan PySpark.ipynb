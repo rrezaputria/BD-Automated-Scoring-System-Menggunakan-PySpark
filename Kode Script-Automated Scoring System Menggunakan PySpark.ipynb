{
 "cells": [
  {
   "cell_type": "markdown",
   "id": "d7050028",
   "metadata": {},
   "source": [
    "NAMA : REZA PUTRI ANGGA\n",
    "NPM : 22083010006\n",
    "MATA KULIAH : BIG DATA (A)"
   ]
  },
  {
   "cell_type": "markdown",
   "id": "4f4d9b22",
   "metadata": {},
   "source": [
    "# RTM-5 AUTOMATED SCORING SYSTEM MENGGUNAKAN PYSPARK"
   ]
  },
  {
   "cell_type": "markdown",
   "id": "3df7d5b0",
   "metadata": {},
   "source": [
    "Membuat kode script PySpark untuk melakukan sistem penskoran secara otomatis pada soal essay. Dataset yang digunakan sebagai data latih\n",
    "diambil dari hasil ujian siswa/mahasiswa dengan sejumlah soal tertentu. Algoritma yang digunakan untuk prediksi menggunakan Alternating Least Square. Output dariprogram berupa akurasi dan pengujian menggunakan data uji soal baru."
   ]
  },
  {
   "cell_type": "code",
   "execution_count": 43,
   "id": "ba02b952",
   "metadata": {},
   "outputs": [
    {
     "name": "stdout",
     "output_type": "stream",
     "text": [
      "Requirement already satisfied: pyspark in /Applications/anaconda3/lib/python3.11/site-packages (3.5.1)\n",
      "Requirement already satisfied: py4j==0.10.9.7 in /Applications/anaconda3/lib/python3.11/site-packages (from pyspark) (0.10.9.7)\n"
     ]
    }
   ],
   "source": [
    "!pip install pyspark"
   ]
  },
  {
   "cell_type": "markdown",
   "id": "08b968bb",
   "metadata": {},
   "source": [
    "# Mengimport Modul Dan Membuat Session"
   ]
  },
  {
   "cell_type": "code",
   "execution_count": 1,
   "id": "c6eb6c93",
   "metadata": {},
   "outputs": [
    {
     "name": "stderr",
     "output_type": "stream",
     "text": [
      "24/05/12 05:20:32 WARN Utils: Your hostname, Eza-MacBook-Pro.local resolves to a loopback address: 127.0.0.1; using 192.168.0.5 instead (on interface en0)\n",
      "24/05/12 05:20:32 WARN Utils: Set SPARK_LOCAL_IP if you need to bind to another address\n",
      "Setting default log level to \"WARN\".\n",
      "To adjust logging level use sc.setLogLevel(newLevel). For SparkR, use setLogLevel(newLevel).\n",
      "24/05/12 05:20:32 WARN NativeCodeLoader: Unable to load native-hadoop library for your platform... using builtin-java classes where applicable\n"
     ]
    }
   ],
   "source": [
    "#mengimport modul yang dibutuhkan\n",
    "from pyspark.sql import SparkSession\n",
    "from pyspark.sql.functions import col\n",
    "\n",
    "#membuat session\n",
    "appName = \"Automated Scoring System ALS\"\n",
    "spark = SparkSession \\\n",
    "    .builder \\\n",
    "    .appName(appName) \\\n",
    "    .config(\"spark.some.config.option\", \"some-value\") \\\n",
    "    .getOrCreate()"
   ]
  },
  {
   "cell_type": "markdown",
   "id": "5044e2a4",
   "metadata": {},
   "source": [
    "# Membaca Dataset"
   ]
  },
  {
   "cell_type": "code",
   "execution_count": 2,
   "id": "b167145f",
   "metadata": {},
   "outputs": [],
   "source": [
    "import pandas as pd\n",
    "\n",
    "#dikarenakan pyspark tidak mendukung pembacaan langsung dari format file excel\n",
    "#baca file excel menggunakan pandas\n",
    "data_pandas = pd.read_excel(\"training_data_essay.xlsx\")\n",
    "\n",
    "#buat dataframe spark dari dataframe pandas\n",
    "data = spark.createDataFrame(data_pandas)"
   ]
  },
  {
   "cell_type": "code",
   "execution_count": 3,
   "id": "f36e7622",
   "metadata": {},
   "outputs": [
    {
     "name": "stderr",
     "output_type": "stream",
     "text": [
      "                                                                                \r"
     ]
    },
    {
     "name": "stdout",
     "output_type": "stream",
     "text": [
      "+---+------------+--------------------+----+-------------+\n",
      "|npm|nama_peserta|             jawaban|soal|skor_per_soal|\n",
      "+---+------------+--------------------+----+-------------+\n",
      "|  0|       Admin|Tidak, Hanya memb...|   1|        100.0|\n",
      "|  0|       Admin|Biaya dihitung be...|   2|        100.0|\n",
      "|  0|       Admin|Hak cipta adalah ...|   3|        100.0|\n",
      "|  0|       Admin|Dijelaskan kepada...|   4|        100.0|\n",
      "|  0|       Admin|1. Melindungi dan...|   5|        100.0|\n",
      "|  0|       Admin|Ruang Komputer, P...|   6|        100.0|\n",
      "|  0|       Admin|Aturlah posisi pe...|   7|        100.0|\n",
      "|  0|       Admin|Posisi Kepala dan...|   8|        100.0|\n",
      "|  0|       Admin|1. Kecocokan soft...|   9|        100.0|\n",
      "|  0|       Admin|1. Fokus dan expo...|  10|        100.0|\n",
      "+---+------------+--------------------+----+-------------+\n",
      "only showing top 10 rows\n",
      "\n"
     ]
    }
   ],
   "source": [
    "#membaca dataset\n",
    "data.show(10)"
   ]
  },
  {
   "cell_type": "markdown",
   "id": "b414d9c4",
   "metadata": {},
   "source": [
    "# Pembersihan Dan Penyiapan Data"
   ]
  },
  {
   "cell_type": "markdown",
   "id": "a62a5f69",
   "metadata": {},
   "source": [
    "Pembersihan Data"
   ]
  },
  {
   "cell_type": "code",
   "execution_count": 4,
   "id": "741cfae0",
   "metadata": {},
   "outputs": [
    {
     "name": "stdout",
     "output_type": "stream",
     "text": [
      "+---+------------+-------+----+-------------+\n",
      "|npm|nama_peserta|jawaban|soal|skor_per_soal|\n",
      "+---+------------+-------+----+-------------+\n",
      "|  0|           0|      0|   0|            0|\n",
      "+---+------------+-------+----+-------------+\n",
      "\n"
     ]
    }
   ],
   "source": [
    "from pyspark.sql.functions import count, when, col\n",
    "\n",
    "#cek missing value\n",
    "missing_count = data.select([count(when(col(c).isNull(), c)).alias(c) for c in data.columns])\n",
    "missing_count.show()"
   ]
  },
  {
   "cell_type": "code",
   "execution_count": 5,
   "id": "35bcebad",
   "metadata": {},
   "outputs": [
    {
     "name": "stdout",
     "output_type": "stream",
     "text": [
      "+---+------------+-------+----+-------------+-----+\n",
      "|npm|nama_peserta|jawaban|soal|skor_per_soal|count|\n",
      "+---+------------+-------+----+-------------+-----+\n",
      "+---+------------+-------+----+-------------+-----+\n",
      "\n"
     ]
    }
   ],
   "source": [
    "from pyspark.sql.functions import count\n",
    "\n",
    "#cek data duplikat\n",
    "duplicate_row = data.groupBy(data.columns).count().filter(\"count > 1\")\n",
    "duplicate_row.show()"
   ]
  },
  {
   "cell_type": "markdown",
   "id": "7c9064ea",
   "metadata": {},
   "source": [
    "Penyiapan Data"
   ]
  },
  {
   "cell_type": "code",
   "execution_count": 6,
   "id": "8c5475b1",
   "metadata": {},
   "outputs": [
    {
     "name": "stdout",
     "output_type": "stream",
     "text": [
      "+---+--------------------+----+----------+\n",
      "|npm|             jawaban|soal|true score|\n",
      "+---+--------------------+----+----------+\n",
      "|  0|Tidak, Hanya memb...|   1|       100|\n",
      "|  0|Biaya dihitung be...|   2|       100|\n",
      "|  0|Hak cipta adalah ...|   3|       100|\n",
      "|  0|Dijelaskan kepada...|   4|       100|\n",
      "|  0|1. Melindungi dan...|   5|       100|\n",
      "|  0|Ruang Komputer, P...|   6|       100|\n",
      "|  0|Aturlah posisi pe...|   7|       100|\n",
      "|  0|Posisi Kepala dan...|   8|       100|\n",
      "|  0|1. Kecocokan soft...|   9|       100|\n",
      "|  0|1. Fokus dan expo...|  10|       100|\n",
      "+---+--------------------+----+----------+\n",
      "only showing top 10 rows\n",
      "\n"
     ]
    }
   ],
   "source": [
    "#memilih data yang ingin ditampilkan\n",
    "#kolom \"npm\", \"jawaban\", \"soal\", dan mengubah \"skor_per_soal\" menjadi \"true score\"\n",
    "data = data.select(\"npm\", \"jawaban\", \"soal\", col(\"skor_per_soal\").cast(\"Int\").alias(\"true score\"))\n",
    "\n",
    "data.show(10)"
   ]
  },
  {
   "cell_type": "code",
   "execution_count": 7,
   "id": "f693d5bf",
   "metadata": {},
   "outputs": [
    {
     "name": "stdout",
     "output_type": "stream",
     "text": [
      "+---+--------------------+----+----------+--------------------+\n",
      "|npm|             jawaban|soal|true score|            feature1|\n",
      "+---+--------------------+----+----------+--------------------+\n",
      "|  0|Tidak, Hanya memb...|   1|       100|[tidak,, hanya, m...|\n",
      "|  0|Biaya dihitung be...|   2|       100|[biaya, dihitung,...|\n",
      "|  0|Hak cipta adalah ...|   3|       100|[hak, cipta, adal...|\n",
      "|  0|Dijelaskan kepada...|   4|       100|[dijelaskan, kepa...|\n",
      "|  0|1. Melindungi dan...|   5|       100|[1., melindungi, ...|\n",
      "|  0|Ruang Komputer, P...|   6|       100|[ruang, komputer,...|\n",
      "|  0|Aturlah posisi pe...|   7|       100|[aturlah, posisi,...|\n",
      "|  0|Posisi Kepala dan...|   8|       100|[posisi, kepala, ...|\n",
      "|  0|1. Kecocokan soft...|   9|       100|[1., kecocokan, s...|\n",
      "|  0|1. Fokus dan expo...|  10|       100|[1., fokus, dan, ...|\n",
      "+---+--------------------+----+----------+--------------------+\n",
      "only showing top 10 rows\n",
      "\n"
     ]
    }
   ],
   "source": [
    "#pemrosesan data untuk mengubah \"jawaban\" menjadi vektor fitur\n",
    "#agar dapat dipahami oleh model ALS\n",
    "#tokenizing jawaban\n",
    "from pyspark.ml.feature import HashingTF, Tokenizer, StopWordsRemover\n",
    "\n",
    "tokenizer = Tokenizer(inputCol = \"jawaban\", outputCol = \"feature1\")\n",
    "tokenized = tokenizer.transform(data)\n",
    "\n",
    "tokenized.show(10)"
   ]
  },
  {
   "cell_type": "code",
   "execution_count": 8,
   "id": "507cc15c",
   "metadata": {},
   "outputs": [
    {
     "name": "stdout",
     "output_type": "stream",
     "text": [
      "+---+--------------------+----+----------+--------------------+--------------------+\n",
      "|npm|             jawaban|soal|true score|            feature1|            feature2|\n",
      "+---+--------------------+----+----------+--------------------+--------------------+\n",
      "|  0|Tidak, Hanya memb...|   1|       100|[tidak,, hanya, m...|[tidak,, hanya, m...|\n",
      "|  0|Biaya dihitung be...|   2|       100|[biaya, dihitung,...|[biaya, dihitung,...|\n",
      "|  0|Hak cipta adalah ...|   3|       100|[hak, cipta, adal...|[hak, cipta, adal...|\n",
      "|  0|Dijelaskan kepada...|   4|       100|[dijelaskan, kepa...|[dijelaskan, kepa...|\n",
      "|  0|1. Melindungi dan...|   5|       100|[1., melindungi, ...|[1., melindungi, ...|\n",
      "|  0|Ruang Komputer, P...|   6|       100|[ruang, komputer,...|[ruang, komputer,...|\n",
      "|  0|Aturlah posisi pe...|   7|       100|[aturlah, posisi,...|[aturlah, posisi,...|\n",
      "|  0|Posisi Kepala dan...|   8|       100|[posisi, kepala, ...|[posisi, kepala, ...|\n",
      "|  0|1. Kecocokan soft...|   9|       100|[1., kecocokan, s...|[1., kecocokan, s...|\n",
      "|  0|1. Fokus dan expo...|  10|       100|[1., fokus, dan, ...|[1., fokus, dan, ...|\n",
      "+---+--------------------+----+----------+--------------------+--------------------+\n",
      "only showing top 10 rows\n",
      "\n"
     ]
    }
   ],
   "source": [
    "#menghapus kata2 yang tidak diinginkan dari teks\n",
    "from pyspark import SparkContext\n",
    "sc = SparkContext.getOrCreate()\n",
    "\n",
    "locale = sc._jvm.java.util.Locale\n",
    "locale.setDefault(locale.forLanguageTag(\"en-US\"))\n",
    "\n",
    "swr = StopWordsRemover(inputCol=tokenizer.getOutputCol(), outputCol = \"feature2\", locale = \"en\")\n",
    "tokenized = swr.transform(tokenized)\n",
    "\n",
    "tokenized.show(10)"
   ]
  },
  {
   "cell_type": "code",
   "execution_count": 9,
   "id": "773d1d53",
   "metadata": {},
   "outputs": [
    {
     "name": "stdout",
     "output_type": "stream",
     "text": [
      "+---+--------------------+----+----------+--------------------+--------------------+--------------------+\n",
      "|npm|             jawaban|soal|true score|            feature1|            feature2|            feature3|\n",
      "+---+--------------------+----+----------+--------------------+--------------------+--------------------+\n",
      "|  0|Tidak, Hanya memb...|   1|       100|[tidak,, hanya, m...|[tidak,, hanya, m...|(262144,[22138,79...|\n",
      "|  0|Biaya dihitung be...|   2|       100|[biaya, dihitung,...|[biaya, dihitung,...|(262144,[18111,56...|\n",
      "|  0|Hak cipta adalah ...|   3|       100|[hak, cipta, adal...|[hak, cipta, adal...|(262144,[462,1515...|\n",
      "|  0|Dijelaskan kepada...|   4|       100|[dijelaskan, kepa...|[dijelaskan, kepa...|(262144,[1532,686...|\n",
      "|  0|1. Melindungi dan...|   5|       100|[1., melindungi, ...|[1., melindungi, ...|(262144,[10768,10...|\n",
      "|  0|Ruang Komputer, P...|   6|       100|[ruang, komputer,...|[ruang, komputer,...|(262144,[78139,11...|\n",
      "|  0|Aturlah posisi pe...|   7|       100|[aturlah, posisi,...|[aturlah, posisi,...|(262144,[1515,225...|\n",
      "|  0|Posisi Kepala dan...|   8|       100|[posisi, kepala, ...|[posisi, kepala, ...|(262144,[1532,225...|\n",
      "|  0|1. Kecocokan soft...|   9|       100|[1., kecocokan, s...|[1., kecocokan, s...|(262144,[6780,731...|\n",
      "|  0|1. Fokus dan expo...|  10|       100|[1., fokus, dan, ...|[1., fokus, dan, ...|(262144,[2437,359...|\n",
      "+---+--------------------+----+----------+--------------------+--------------------+--------------------+\n",
      "only showing top 10 rows\n",
      "\n"
     ]
    }
   ],
   "source": [
    "#mengubah feature jawaban menjadi vektor\n",
    "from pyspark.ml.feature import VectorAssembler\n",
    "\n",
    "#mengubah featire 2 menjadi angka \n",
    "hashTF = HashingTF(inputCol=swr.getOutputCol(), outputCol = \"feature3\")\n",
    "tokenized = hashTF.transform(tokenized)\n",
    "\n",
    "tokenized.show(10)"
   ]
  },
  {
   "cell_type": "code",
   "execution_count": 10,
   "id": "af61955f",
   "metadata": {},
   "outputs": [
    {
     "name": "stdout",
     "output_type": "stream",
     "text": [
      "+---+----+--------------------+--------+----------+\n",
      "|npm|soal|             jawaban|features|true score|\n",
      "+---+----+--------------------+--------+----------+\n",
      "|  0|   1|Tidak, Hanya memb...|     0.0|       100|\n",
      "|  0|   2|Biaya dihitung be...|     0.0|       100|\n",
      "|  0|   3|Hak cipta adalah ...|     0.0|       100|\n",
      "|  0|   4|Dijelaskan kepada...|     0.0|       100|\n",
      "|  0|   5|1. Melindungi dan...|     0.0|       100|\n",
      "|  0|   6|Ruang Komputer, P...|     0.0|       100|\n",
      "|  0|   7|Aturlah posisi pe...|     0.0|       100|\n",
      "|  0|   8|Posisi Kepala dan...|     0.0|       100|\n",
      "|  0|   9|1. Kecocokan soft...|     0.0|       100|\n",
      "|  0|  10|1. Fokus dan expo...|     0.0|       100|\n",
      "+---+----+--------------------+--------+----------+\n",
      "only showing top 10 rows\n",
      "\n"
     ]
    }
   ],
   "source": [
    "#mengubah feature jawaban yang telah ditokenized menjadi vektor tunggal dan memilih kolom yang ingin ditampilkan\n",
    "from pyspark.sql.functions import udf\n",
    "from pyspark.sql.types import DoubleType\n",
    "from pyspark.ml.linalg import Vectors\n",
    "\n",
    "#fungsi UDF untuk mengekstrak nilai tunggal dari vektor\n",
    "extract_value = udf(lambda v: float(v[0]), DoubleType())\n",
    "\n",
    "#membuat kolom baru dengan nilai tunggal dari vektor\n",
    "tokenized = tokenized.withColumn(\"features\", extract_value(\"feature3\"))\n",
    "\n",
    "selected_features = [\"npm\", \"soal\", \"jawaban\", \"features\", \"true score\"]\n",
    "data = tokenized.select(selected_features)\n",
    "\n",
    "data.show(10)"
   ]
  },
  {
   "cell_type": "markdown",
   "id": "2a733c89",
   "metadata": {},
   "source": [
    "# Pembagian Data Training Dan Data Testing"
   ]
  },
  {
   "cell_type": "code",
   "execution_count": 25,
   "id": "43ba2b3e",
   "metadata": {},
   "outputs": [
    {
     "name": "stdout",
     "output_type": "stream",
     "text": [
      "Jumlah Data Training :  84  Dan Jumlah Data Testing :  36\n"
     ]
    }
   ],
   "source": [
    "#membagi data dalam dataset menjadi data training 70% dan data testing 30%\n",
    "split_data = data.randomSplit([0.7, 0.3])\n",
    "training_data = split_data[0]\n",
    "testing_data = split_data[1]\n",
    "\n",
    "#jumlah data training dan data testing\n",
    "training_row = training_data.count()\n",
    "testing_row = testing_data.count()\n",
    "\n",
    "print(\"Jumlah Data Training : \", training_row, \" Dan Jumlah Data Testing : \", testing_row)"
   ]
  },
  {
   "cell_type": "code",
   "execution_count": 26,
   "id": "ea064d5d",
   "metadata": {},
   "outputs": [
    {
     "name": "stdout",
     "output_type": "stream",
     "text": [
      "+----------+----+--------------------+--------+----------+\n",
      "|       npm|soal|             jawaban|features|true score|\n",
      "+----------+----+--------------------+--------+----------+\n",
      "|         0|   1|Tidak, Hanya memb...|     0.0|       100|\n",
      "|         0|   2|Biaya dihitung be...|     0.0|       100|\n",
      "|         0|   4|Dijelaskan kepada...|     0.0|       100|\n",
      "|         0|   5|1. Melindungi dan...|     0.0|       100|\n",
      "|         0|   8|Posisi Kepala dan...|     0.0|       100|\n",
      "|         0|   9|1. Kecocokan soft...|     0.0|       100|\n",
      "|         0|  10|1. Fokus dan expo...|     0.0|       100|\n",
      "|         0|  11|1. Peralatan yang...|     0.0|       100|\n",
      "|1121020033|   1|tidak, cuma mengi...|     0.0|        52|\n",
      "|1121020033|   2|biaya dihitung be...|     0.0|        42|\n",
      "|1121020033|   3|hak membuat merup...|     0.0|        42|\n",
      "|1121020033|   4|dipaparkan pada k...|     0.0|        27|\n",
      "|1121020033|   5|1. mencegah serta...|     0.0|        44|\n",
      "|1121020033|   6|ruang komputer, p...|     0.0|       100|\n",
      "|1121020033|   8|posisi kepala ser...|     0.0|        45|\n",
      "|1121020033|  10|fokus serta expos...|     0.0|        42|\n",
      "|1121020033|  11|1. perlengkapan y...|     0.0|        41|\n",
      "|1220020029|   1|tidak, hanya memb...|     0.0|       100|\n",
      "|1220020029|   2|biaya dihitung be...|     0.0|       100|\n",
      "|1220020029|   3|hak cipta adalah ...|     0.0|        91|\n",
      "|1220020029|   4|dijelaskan kepada...|     0.0|        72|\n",
      "|1220020029|   6|ruang komputer, p...|     0.0|       100|\n",
      "|1220020018|   1|tidak, hanya memb...|     0.0|       100|\n",
      "|1220020018|   2|biaya dihitung be...|     0.0|       100|\n",
      "|1220020018|   3|hak cipta adalah ...|     0.0|        91|\n",
      "|1220020018|   4|dijelaskan kepada...|     0.0|        72|\n",
      "|1220020018|   5|melindungi dan me...|     0.0|        74|\n",
      "|1220020018|   7|aturlah posisi pe...|     0.0|        86|\n",
      "|1220020018|   8|posisi kepala dan...|     0.0|       100|\n",
      "|1220020018|   9|kecocokan softwar...|     0.0|        99|\n",
      "|1220020029|   7|ruang komputer, p...|     0.0|        86|\n",
      "|1220020029|   8|posisi kepala dan...|     0.0|        89|\n",
      "|1220020029|  10|fokus dan exposur...|     0.0|       100|\n",
      "|1220020029|  11|peralatan yang di...|     0.0|        77|\n",
      "|1220020018|  10|fokus dan exposur...|     0.0|        94|\n",
      "|1220020018|  11|peralatan yang di...|     0.0|        92|\n",
      "|1220020023|   2|biaya dihitung be...|     0.0|       100|\n",
      "|1220020023|   4|dijelaskan kepada...|     0.0|        72|\n",
      "|1220020023|   5|melindungi dan me...|     0.0|        90|\n",
      "|1220020023|   6|ruang komputer, p...|     0.0|       100|\n",
      "|1220020023|   7|aturlah posisi pe...|     0.0|        86|\n",
      "|1220020023|   8|posisi kepala dan...|     0.0|       100|\n",
      "|1220020023|   9|kecocokan softwar...|     0.0|        65|\n",
      "|1220020023|  10|fokus dan exposur...|     0.0|        90|\n",
      "|1220020023|  11|peralatan yang di...|     0.0|       100|\n",
      "|1120020017|   4|dijelaskan kepada...|     0.0|        72|\n",
      "|1120020017|   5|memlihara sumber ...|     0.0|        88|\n",
      "|1120020017|   7|aturlah posisi pe...|     0.0|        86|\n",
      "|1120020017|   8|posisi kepala dan...|     0.0|        89|\n",
      "|1120020017|   9|kecocokan softwar...|     0.0|        65|\n",
      "|1120020017|  11|peralatan yang di...|     0.0|        80|\n",
      "|1121020032|   1|tidak, hanya memb...|     0.0|       100|\n",
      "|1121020032|   2|biaya dihitung be...|     0.0|       100|\n",
      "|1121020032|   3|hak cipta adalah ...|     0.0|        91|\n",
      "|1121020024|   1|tidak, hanya memb...|     0.0|       100|\n",
      "|1121020024|   2|biaya dihitung be...|     0.0|       100|\n",
      "|1121020024|   4|dijelaskan kepada...|     0.0|        57|\n",
      "|1121020024|   5|melindungi dan me...|     0.0|        74|\n",
      "|1121020032|   7|aturlah posisi pe...|     0.0|        86|\n",
      "|1121020032|   8|posisi kepala dan...|     0.0|        89|\n",
      "|1121020032|   9|kecocokan softwar...|     0.0|        84|\n",
      "|1121020032|  10|fokus dan exposur...|     0.0|        83|\n",
      "|1121020032|  11|peralatan yang di...|     0.0|        83|\n",
      "|1121020024|   7|aturlah posisi pe...|     0.0|       100|\n",
      "|1121020024|   9|kecocokan softwar...|     0.0|        65|\n",
      "|1121020024|  11|peralatan yang di...|     0.0|        98|\n",
      "|1121020024|  12|dibuat grafik yan...|     0.0|        64|\n",
      "|1121020036|   1|tidak, hanya memb...|     0.0|       100|\n",
      "|1121020036|   2|biaya dihitung be...|     0.0|        84|\n",
      "|1121020036|   3|hak cipta adalah ...|     0.0|        76|\n",
      "|1121020036|   4|dijelaskan kepada...|     0.0|        73|\n",
      "|1121020036|   5|melindungi dan me...|     0.0|        69|\n",
      "|1121020036|   6|ruang komputer, p...|     0.0|       100|\n",
      "|1121020036|   7|aturlah posisi pe...|     0.0|        86|\n",
      "|1121020036|   9|kecocokan softwar...|     0.0|        84|\n",
      "|1121020035|   1|tidak, hanya memb...|     0.0|       100|\n",
      "|1121020035|   2|   perhitungan biaya|     0.0|        26|\n",
      "|1121020035|   5|melindungi dan me...|     0.0|        74|\n",
      "|1121020035|   8|posisi kepala dan...|     0.0|        48|\n",
      "|1121020035|  11|peralatan yang di...|     0.0|        78|\n",
      "|1121020035|  12|dibuat grafik yan...|     0.0|        64|\n",
      "|1121020036|  10|fokus dan exposur...|     0.0|        87|\n",
      "|1121020036|  11|peralatan yang di...|     0.0|        80|\n",
      "|1121020036|  12|dibuat grafik yan...|     0.0|        86|\n",
      "+----------+----+--------------------+--------+----------+\n",
      "\n"
     ]
    }
   ],
   "source": [
    "#menampilkan data testing\n",
    "training_data.show(84)"
   ]
  },
  {
   "cell_type": "code",
   "execution_count": 27,
   "id": "2b3304fa",
   "metadata": {},
   "outputs": [
    {
     "name": "stdout",
     "output_type": "stream",
     "text": [
      "+----------+----+--------------------+--------+----------+\n",
      "|       npm|soal|             jawaban|features|true score|\n",
      "+----------+----+--------------------+--------+----------+\n",
      "|         0|   3|Hak cipta adalah ...|     0.0|       100|\n",
      "|         0|   6|Ruang Komputer, P...|     0.0|       100|\n",
      "|         0|   7|Aturlah posisi pe...|     0.0|       100|\n",
      "|         0|  12|1. Dibuat grafik ...|     0.0|       100|\n",
      "|1121020033|   7|aturlah posisi fi...|     0.0|        57|\n",
      "|1121020033|   9|1.kesesuaian apli...|     0.0|        54|\n",
      "|1121020033|  12|metode digital ar...|     0.0|        26|\n",
      "|1220020029|   5|melindungi dan me...|     0.0|        74|\n",
      "|1220020018|   6|ruang komputer, p...|     0.0|       100|\n",
      "|1220020029|   9|kecocokan softwar...|     0.0|        84|\n",
      "|1220020029|  12|dibuat grafik yan...|     0.0|        81|\n",
      "|1220020018|  12|dibuat grafik yan...|     0.0|        86|\n",
      "|1220020023|   1|tidak, hanya memb...|     0.0|       100|\n",
      "|1220020023|   3|hak cipta adalah ...|     0.0|        91|\n",
      "|1220020023|  12|dibuat grafik yan...|     0.0|        91|\n",
      "|1120020017|   1|tidak, hanya memb...|     0.0|       100|\n",
      "|1120020017|   2|biaya dihitung be...|     0.0|        84|\n",
      "|1120020017|   3|emperbanyak cipta...|     0.0|        47|\n",
      "|1120020017|   6|posisi tubuh, pos...|     0.0|        90|\n",
      "|1120020017|  10|fokus dan exposur...|     0.0|        85|\n",
      "|1120020017|  12|dibuat grafik yan...|     0.0|        86|\n",
      "|1121020024|   3|hak cipta adalah ...|     0.0|        83|\n",
      "|1121020024|   6|ruang komputer, p...|     0.0|       100|\n",
      "|1121020032|   4|dijelaskan kepada...|     0.0|        72|\n",
      "|1121020032|   5|melindungi dan me...|     0.0|        74|\n",
      "|1121020032|   6|ruang komputer, p...|     0.0|       100|\n",
      "|1121020032|  12|dibuat grafik yan...|     0.0|        86|\n",
      "|1121020024|   8|posisi kepala dan...|     0.0|       100|\n",
      "|1121020024|  10|fokus dan exposur...|     0.0|        50|\n",
      "|1121020036|   8|posisi kepala dan...|     0.0|        82|\n",
      "|1121020035|   3|hak cipta adalah ...|     0.0|        83|\n",
      "|1121020035|   4|dijelaskan kepada...|     0.0|        78|\n",
      "|1121020035|   6|        posisi tubuh|     0.0|        67|\n",
      "|1121020035|   7|aturlah posisi pe...|     0.0|        59|\n",
      "|1121020035|   9|kecocokan softwar...|     0.0|        65|\n",
      "|1121020035|  10|okus dan exposure...|     0.0|        48|\n",
      "+----------+----+--------------------+--------+----------+\n",
      "\n"
     ]
    }
   ],
   "source": [
    "#menampilkan data training\n",
    "testing_data.show(36)"
   ]
  },
  {
   "cell_type": "markdown",
   "id": "79693d78",
   "metadata": {},
   "source": [
    "# Pembangunan Model ALS (Alternating Least Square)"
   ]
  },
  {
   "cell_type": "code",
   "execution_count": 28,
   "id": "b517fcc7",
   "metadata": {},
   "outputs": [
    {
     "name": "stderr",
     "output_type": "stream",
     "text": [
      "24/05/12 05:21:16 WARN InstanceBuilder: Failed to load implementation from:dev.ludovic.netlib.blas.JNIBLAS\n",
      "24/05/12 05:21:16 WARN InstanceBuilder: Failed to load implementation from:dev.ludovic.netlib.lapack.JNILAPACK\n"
     ]
    }
   ],
   "source": [
    "#membangun model ALS\n",
    "from pyspark.ml.feature import StringIndexer\n",
    "from pyspark.ml.recommendation import ALS\n",
    "\n",
    "#karena semua kolom sudah bertipe numerik\n",
    "#dan memenuhi syarat pembangunan model ALS, maka dibangun model ALS\n",
    "als = ALS(maxIter = 10, regParam = 0.01, userCol = \"soal\", itemCol = \"features\", \n",
    "          ratingCol = \"true score\")\n",
    "\n",
    "#melatih model als\n",
    "model = als.fit(training_data)"
   ]
  },
  {
   "cell_type": "markdown",
   "id": "87048159",
   "metadata": {},
   "source": [
    "# Pengujian Model Berdasarkan Model ALS (Alternating Least Square) Menggunakan Data Testing"
   ]
  },
  {
   "cell_type": "code",
   "execution_count": 29,
   "id": "db6b0eb3",
   "metadata": {},
   "outputs": [
    {
     "name": "stdout",
     "output_type": "stream",
     "text": [
      "+----------+----+--------------------+--------+----------+----------+\n",
      "|       npm|soal|             jawaban|features|true score|prediction|\n",
      "+----------+----+--------------------+--------+----------+----------+\n",
      "|         0|  12|1. Dibuat grafik ...|     0.0|       100|     71.33|\n",
      "|         0|   6|Ruang Komputer, P...|     0.0|       100|     100.0|\n",
      "|         0|   3|Hak cipta adalah ...|     0.0|       100|      78.2|\n",
      "|         0|   7|Aturlah posisi pe...|     0.0|       100|      88.0|\n",
      "|1121020033|  12|metode digital ar...|     0.0|        26|     71.33|\n",
      "|1220020029|   5|melindungi dan me...|     0.0|        74|     76.62|\n",
      "|1121020033|   9|1.kesesuaian apli...|     0.0|        54|     80.29|\n",
      "|1121020033|   7|aturlah posisi fi...|     0.0|        57|      88.0|\n",
      "|1220020029|  12|dibuat grafik yan...|     0.0|        81|     71.33|\n",
      "|1220020018|   6|ruang komputer, p...|     0.0|       100|     100.0|\n",
      "|1220020029|   9|kecocokan softwar...|     0.0|        84|     80.29|\n",
      "|1220020018|  12|dibuat grafik yan...|     0.0|        86|     71.33|\n",
      "|1220020023|  12|dibuat grafik yan...|     0.0|        91|     71.33|\n",
      "|1220020023|   1|tidak, hanya memb...|     0.0|       100|      94.0|\n",
      "|1220020023|   3|hak cipta adalah ...|     0.0|        91|      78.2|\n",
      "|1120020017|  12|dibuat grafik yan...|     0.0|        86|     71.33|\n",
      "|1120020017|   1|tidak, hanya memb...|     0.0|       100|      94.0|\n",
      "|1120020017|   6|posisi tubuh, pos...|     0.0|        90|     100.0|\n",
      "|1120020017|   3|emperbanyak cipta...|     0.0|        47|      78.2|\n",
      "|1120020017|  10|fokus dan exposur...|     0.0|        85|     85.14|\n",
      "|1120020017|   2|biaya dihitung be...|     0.0|        84|     83.56|\n",
      "|1121020032|  12|dibuat grafik yan...|     0.0|        86|     71.33|\n",
      "|1121020024|   6|ruang komputer, p...|     0.0|       100|     100.0|\n",
      "|1121020032|   6|ruang komputer, p...|     0.0|       100|     100.0|\n",
      "|1121020024|   3|hak cipta adalah ...|     0.0|        83|      78.2|\n",
      "|1121020032|   5|melindungi dan me...|     0.0|        74|     76.62|\n",
      "|1121020032|   4|dijelaskan kepada...|     0.0|        72|     68.12|\n",
      "|1121020024|   8|posisi kepala dan...|     0.0|       100|      82.5|\n",
      "|1121020036|   8|posisi kepala dan...|     0.0|        82|      82.5|\n",
      "|1121020024|  10|fokus dan exposur...|     0.0|        50|     85.14|\n",
      "|1121020035|   6|        posisi tubuh|     0.0|        67|     100.0|\n",
      "|1121020035|   3|hak cipta adalah ...|     0.0|        83|      78.2|\n",
      "|1121020035|   9|kecocokan softwar...|     0.0|        65|     80.29|\n",
      "|1121020035|   4|dijelaskan kepada...|     0.0|        78|     68.12|\n",
      "|1121020035|   7|aturlah posisi pe...|     0.0|        59|      88.0|\n",
      "|1121020035|  10|okus dan exposure...|     0.0|        48|     85.14|\n",
      "+----------+----+--------------------+--------+----------+----------+\n",
      "\n"
     ]
    }
   ],
   "source": [
    "#lakukan prediksi dan penampilan pada data pengujian\n",
    "from pyspark.sql.functions import round\n",
    "\n",
    "predictions_testing_data = model.transform(testing_data)\n",
    "predictions_testing_data = predictions_testing_data.withColumn(\"prediction\", \n",
    "                                                               round(predictions_testing_data[\"prediction\"], 2))\n",
    "\n",
    "predictions_testing_data.show(36)"
   ]
  },
  {
   "cell_type": "markdown",
   "id": "a8a9e23f",
   "metadata": {},
   "source": [
    "# Akurasi Model"
   ]
  },
  {
   "cell_type": "code",
   "execution_count": 30,
   "id": "f4d34a7f",
   "metadata": {},
   "outputs": [
    {
     "name": "stdout",
     "output_type": "stream",
     "text": [
      "Root Mean Square Error (RMSE) :  18.896240372702476\n"
     ]
    }
   ],
   "source": [
    "from pyspark.ml.evaluation import RegressionEvaluator\n",
    "\n",
    "#perhitungan RMSE\n",
    "evaluator = RegressionEvaluator(metricName = \"rmse\", labelCol = \"true score\", predictionCol = \"prediction\")\n",
    "rmse = evaluator.evaluate(predictions_testing_data)\n",
    "\n",
    "#menampilkan hasil\n",
    "print(\"Root Mean Square Error (RMSE) : \", rmse)"
   ]
  },
  {
   "cell_type": "code",
   "execution_count": 31,
   "id": "20c2c818",
   "metadata": {},
   "outputs": [
    {
     "name": "stdout",
     "output_type": "stream",
     "text": [
      "Prediksi Benar :  4 Total Data :  36 Akurasi :  0.1111111111111111\n"
     ]
    }
   ],
   "source": [
    "correct_predictions = predictions_testing_data.filter(predictions_testing_data[\"prediction\"] == predictions_testing_data[\"true score\"])\n",
    "\n",
    "total_data = predictions_testing_data.count()\n",
    "correct_count = correct_predictions.count()  #menghitung jumlah prediksi yang benar\n",
    "\n",
    "accuracy = correct_count / total_data  #menghitung akurasi\n",
    "\n",
    "print(\"Prediksi Benar : \", correct_count, \n",
    "      \"Total Data : \", total_data,\n",
    "      \"Akurasi : \", accuracy)"
   ]
  },
  {
   "cell_type": "markdown",
   "id": "7de51dc5",
   "metadata": {},
   "source": [
    "# Data Uji Soal Baru"
   ]
  },
  {
   "cell_type": "code",
   "execution_count": 35,
   "id": "58bd07b4",
   "metadata": {},
   "outputs": [
    {
     "data": {
      "text/html": [
       "<div>\n",
       "<style scoped>\n",
       "    .dataframe tbody tr th:only-of-type {\n",
       "        vertical-align: middle;\n",
       "    }\n",
       "\n",
       "    .dataframe tbody tr th {\n",
       "        vertical-align: top;\n",
       "    }\n",
       "\n",
       "    .dataframe thead th {\n",
       "        text-align: right;\n",
       "    }\n",
       "</style>\n",
       "<table border=\"1\" class=\"dataframe\">\n",
       "  <thead>\n",
       "    <tr style=\"text-align: right;\">\n",
       "      <th></th>\n",
       "      <th>npm</th>\n",
       "      <th>soal</th>\n",
       "      <th>jawaban</th>\n",
       "      <th>true score</th>\n",
       "    </tr>\n",
       "  </thead>\n",
       "  <tbody>\n",
       "    <tr>\n",
       "      <th>0</th>\n",
       "      <td>1121020006</td>\n",
       "      <td>1</td>\n",
       "      <td>Satu software sudah cukup karena sesuai dengan...</td>\n",
       "      <td>70.752525</td>\n",
       "    </tr>\n",
       "    <tr>\n",
       "      <th>1</th>\n",
       "      <td>1121020006</td>\n",
       "      <td>2</td>\n",
       "      <td>Perhitungan biaya didasarkan pada waktu penger...</td>\n",
       "      <td>60.919572</td>\n",
       "    </tr>\n",
       "    <tr>\n",
       "      <th>2</th>\n",
       "      <td>1121020006</td>\n",
       "      <td>3</td>\n",
       "      <td>Hak cipta merupakan hak eksklusif bagi pencipt...</td>\n",
       "      <td>71.858525</td>\n",
       "    </tr>\n",
       "    <tr>\n",
       "      <th>3</th>\n",
       "      <td>1121020006</td>\n",
       "      <td>4</td>\n",
       "      <td>Penting untuk menjelaskan kepada klien bahwa u...</td>\n",
       "      <td>73.820298</td>\n",
       "    </tr>\n",
       "    <tr>\n",
       "      <th>4</th>\n",
       "      <td>1121020006</td>\n",
       "      <td>5</td>\n",
       "      <td>Langkah-langkah untuk melindungi dan menjaga k...</td>\n",
       "      <td>92.810806</td>\n",
       "    </tr>\n",
       "    <tr>\n",
       "      <th>5</th>\n",
       "      <td>1121020006</td>\n",
       "      <td>6</td>\n",
       "      <td>Ruang komputer harus diatur sedemikian rupa ag...</td>\n",
       "      <td>80.650687</td>\n",
       "    </tr>\n",
       "    <tr>\n",
       "      <th>6</th>\n",
       "      <td>1121020006</td>\n",
       "      <td>7</td>\n",
       "      <td>Untuk mengurangi ketegangan otot dan pikiran, ...</td>\n",
       "      <td>80.319357</td>\n",
       "    </tr>\n",
       "    <tr>\n",
       "      <th>7</th>\n",
       "      <td>1121020006</td>\n",
       "      <td>8</td>\n",
       "      <td>Untuk memastikan kenyamanan saat bekerja, pent...</td>\n",
       "      <td>86.776008</td>\n",
       "    </tr>\n",
       "    <tr>\n",
       "      <th>8</th>\n",
       "      <td>1121020006</td>\n",
       "      <td>9</td>\n",
       "      <td>Saat memilih perangkat lunak kamera, perlu dip...</td>\n",
       "      <td>97.714766</td>\n",
       "    </tr>\n",
       "    <tr>\n",
       "      <th>9</th>\n",
       "      <td>1121020006</td>\n",
       "      <td>10</td>\n",
       "      <td>Fokus dan eksposur kamera digital harus diperh...</td>\n",
       "      <td>69.376626</td>\n",
       "    </tr>\n",
       "    <tr>\n",
       "      <th>10</th>\n",
       "      <td>1121020006</td>\n",
       "      <td>11</td>\n",
       "      <td>Saat mentransfer gambar, perlu diidentifikasi ...</td>\n",
       "      <td>84.792481</td>\n",
       "    </tr>\n",
       "    <tr>\n",
       "      <th>11</th>\n",
       "      <td>1121020006</td>\n",
       "      <td>12</td>\n",
       "      <td>Desain grafis harus memperhatikan prinsip desa...</td>\n",
       "      <td>71.392934</td>\n",
       "    </tr>\n",
       "  </tbody>\n",
       "</table>\n",
       "</div>"
      ],
      "text/plain": [
       "           npm  soal                                            jawaban  \\\n",
       "0   1121020006     1  Satu software sudah cukup karena sesuai dengan...   \n",
       "1   1121020006     2  Perhitungan biaya didasarkan pada waktu penger...   \n",
       "2   1121020006     3  Hak cipta merupakan hak eksklusif bagi pencipt...   \n",
       "3   1121020006     4  Penting untuk menjelaskan kepada klien bahwa u...   \n",
       "4   1121020006     5  Langkah-langkah untuk melindungi dan menjaga k...   \n",
       "5   1121020006     6  Ruang komputer harus diatur sedemikian rupa ag...   \n",
       "6   1121020006     7  Untuk mengurangi ketegangan otot dan pikiran, ...   \n",
       "7   1121020006     8  Untuk memastikan kenyamanan saat bekerja, pent...   \n",
       "8   1121020006     9  Saat memilih perangkat lunak kamera, perlu dip...   \n",
       "9   1121020006    10  Fokus dan eksposur kamera digital harus diperh...   \n",
       "10  1121020006    11  Saat mentransfer gambar, perlu diidentifikasi ...   \n",
       "11  1121020006    12  Desain grafis harus memperhatikan prinsip desa...   \n",
       "\n",
       "    true score  \n",
       "0    70.752525  \n",
       "1    60.919572  \n",
       "2    71.858525  \n",
       "3    73.820298  \n",
       "4    92.810806  \n",
       "5    80.650687  \n",
       "6    80.319357  \n",
       "7    86.776008  \n",
       "8    97.714766  \n",
       "9    69.376626  \n",
       "10   84.792481  \n",
       "11   71.392934  "
      ]
     },
     "execution_count": 35,
     "metadata": {},
     "output_type": "execute_result"
    }
   ],
   "source": [
    "import pandas as pd\n",
    "import random\n",
    "\n",
    "# Data uji baru yang ingin dibuat\n",
    "data_uji = {\n",
    "    \"npm\": [\"1121020006\"] * 12,  #semua npm adalah '06'\n",
    "    \"soal\": list(range(1, 13)),  #kode soal dari 1 hingga 12\n",
    "    \"jawaban\": [\n",
    "        \"Satu software sudah cukup karena sesuai dengan keahlian yang dibutuhkan.\",\n",
    "        \"Perhitungan biaya didasarkan pada waktu pengerjaan dan tingkat kesulitan proyek.\",\n",
    "        \"Hak cipta merupakan hak eksklusif bagi pencipta atau penerima hak untuk mengumumkan atau memperbanyak karyanya, dengan memperhatikan peraturan perundang-undangan yang berlaku.\",\n",
    "        \"Penting untuk menjelaskan kepada klien bahwa ukuran huruf yang terlalu besar atau terlalu kecil dapat memengaruhi kenyamanan pembaca.\",\n",
    "        \"Langkah-langkah untuk melindungi dan menjaga keamanan di tempat kerja mencakup berbagai hal, seperti hak keselamatan pekerja dan pemeliharaan sumber daya produksi.\",\n",
    "        \"Ruang komputer harus diatur sedemikian rupa agar nyaman digunakan, termasuk posisi tubuh dan posisi komputer yang tepat.\",\n",
    "        \"Untuk mengurangi ketegangan otot dan pikiran, penting untuk melakukan istirahat yang cukup dan gerakan tubuh secara teratur saat bekerja di depan komputer.\",\n",
    "        \"Untuk memastikan kenyamanan saat bekerja, penting untuk menjaga posisi kepala, leher, punggung, pundak, lengan, dan siku dalam posisi yang tepat.\",\n",
    "        \"Saat memilih perangkat lunak kamera, perlu dipertimbangkan kesesuaian dengan perangkat keras, resolusi kamera, dan kapasitas RAM untuk memastikan kualitas gambar yang dihasilkan.\",\n",
    "        \"Fokus dan eksposur kamera digital harus diperhatikan agar gambar yang dihasilkan sesuai dengan kebutuhan, termasuk penggunaan perangkat lunak gambar yang tepat dan pengaturan file gambar yang disimpan.\",\n",
    "        \"Saat mentransfer gambar, perlu diidentifikasi peralatan dan materi yang diperlukan, serta memastikan peralatan teknis dioperasikan sesuai standar untuk transfer yang benar.\",\n",
    "        \"Desain grafis harus memperhatikan prinsip desain visual, teknik digital artwork, dan penggunaan software yang tepat untuk menghasilkan grafik yang sesuai dengan kebutuhan.\"\n",
    "    ],\n",
    "    \"true score\": [random.uniform(60, 100) for _ in range(12)]  # Skor acak antara 60 dan 100\n",
    "}\n",
    "\n",
    "#membuat DataFrame dari data uji\n",
    "data_uji_baru = pd.DataFrame(data_uji)\n",
    "\n",
    "# Menampilkan DataFrame\n",
    "data_uji_baru"
   ]
  },
  {
   "cell_type": "code",
   "execution_count": 37,
   "id": "4d7c70c0",
   "metadata": {},
   "outputs": [
    {
     "name": "stdout",
     "output_type": "stream",
     "text": [
      "+----------+----+--------------------+--------+-----------------+\n",
      "|       npm|soal|             jawaban|features|       true score|\n",
      "+----------+----+--------------------+--------+-----------------+\n",
      "|1121020006|   1|Satu software sud...|     0.0| 70.7525245899488|\n",
      "|1121020006|   2|Perhitungan biaya...|     0.0|60.91957185793961|\n",
      "|1121020006|   3|Hak cipta merupak...|     0.0|71.85852543131415|\n",
      "|1121020006|   4|Penting untuk men...|     0.0|73.82029818135986|\n",
      "|1121020006|   5|Langkah-langkah u...|     0.0| 92.8108063809619|\n",
      "|1121020006|   6|Ruang komputer ha...|     0.0|80.65068661981215|\n",
      "|1121020006|   7|Untuk mengurangi ...|     0.0|80.31935657019821|\n",
      "|1121020006|   8|Untuk memastikan ...|     0.0|86.77600833946627|\n",
      "|1121020006|   9|Saat memilih pera...|     0.0|97.71476565028138|\n",
      "|1121020006|  10|Fokus dan eksposu...|     0.0|69.37662586918414|\n",
      "|1121020006|  11|Saat mentransfer ...|     0.0|84.79248130763396|\n",
      "|1121020006|  12|Desain grafis har...|     0.0|71.39293374117395|\n",
      "+----------+----+--------------------+--------+-----------------+\n",
      "\n"
     ]
    }
   ],
   "source": [
    "from pyspark.ml.feature import Tokenizer, HashingTF, IDF\n",
    "from pyspark.sql import SparkSession\n",
    "from pyspark.sql.functions import udf\n",
    "from pyspark.sql.types import DoubleType\n",
    "\n",
    "#membuat sesi spark untuk mengubah data uji baru menjadi vektor\n",
    "spark = SparkSession.builder \\\n",
    "    .appName(\"Data Uji Baru\") \\\n",
    "    .getOrCreate()\n",
    "\n",
    "#membuat DataFrame PySpark dari data uji\n",
    "data_uji_spark = spark.createDataFrame(data_uji_baru)\n",
    "\n",
    "#tokenisasi jawaban\n",
    "tokenizer = Tokenizer(inputCol=\"jawaban\", outputCol=\"words\")\n",
    "wordsData = tokenizer.transform(data_uji_spark)\n",
    "\n",
    "#menggunakan HashingTF untuk mengubah kata-kata menjadi fitur vektor\n",
    "hashingTF = HashingTF(inputCol=\"words\", outputCol=\"rawFeatures\", numFeatures=10000)\n",
    "featurizedData = hashingTF.transform(wordsData)\n",
    "\n",
    "#menghitung IDF untuk mendapatkan vektor akhir\n",
    "idf = IDF(inputCol=\"rawFeatures\", outputCol=\"jawaban_vektor\")\n",
    "idfModel = idf.fit(featurizedData)\n",
    "data_vectorized = idfModel.transform(featurizedData)\n",
    "\n",
    "#pemilihan kolom yang diperlukan untuk model ALS\n",
    "data_selected = data_vectorized.select(\"npm\", \"soal\", \"jawaban\", \"true score\", \"jawaban_vektor\")\n",
    "\n",
    "#fungsi UDF untuk mengekstrak nilai tunggal dari vektor\n",
    "extract_value = udf(lambda v: float(v[0]), DoubleType())\n",
    "\n",
    "#membuat kolom baru dengan nilai tunggal dari vektor\n",
    "data_selected = data_selected.withColumn(\"features\", extract_value(\"jawaban_vektor\"))\n",
    "\n",
    "#menampilkan DataFrame yang sudah diubah ke dalam vektor\n",
    "data_final = data_selected.select(\"npm\", \"soal\", \"jawaban\", \"features\", \"true score\")\n",
    "data_final.show()"
   ]
  },
  {
   "cell_type": "code",
   "execution_count": 39,
   "id": "ba6f1517",
   "metadata": {},
   "outputs": [
    {
     "name": "stdout",
     "output_type": "stream",
     "text": [
      "+----------+----+--------------------+--------+-----------------+----------+\n",
      "|       npm|soal|             jawaban|features|       true score|prediction|\n",
      "+----------+----+--------------------+--------+-----------------+----------+\n",
      "|1121020006|   1|Satu software sud...|     0.0| 70.7525245899488|      94.0|\n",
      "|1121020006|   3|Hak cipta merupak...|     0.0|71.85852543131415|      78.2|\n",
      "|1121020006|   2|Perhitungan biaya...|     0.0|60.91957185793961|     83.56|\n",
      "|1121020006|   4|Penting untuk men...|     0.0|73.82029818135986|     68.12|\n",
      "|1121020006|   6|Ruang komputer ha...|     0.0|80.65068661981215|     100.0|\n",
      "|1121020006|   5|Langkah-langkah u...|     0.0| 92.8108063809619|     76.62|\n",
      "|1121020006|   7|Untuk mengurangi ...|     0.0|80.31935657019821|      88.0|\n",
      "|1121020006|   9|Saat memilih pera...|     0.0|97.71476565028138|     80.29|\n",
      "|1121020006|   8|Untuk memastikan ...|     0.0|86.77600833946627|      82.5|\n",
      "|1121020006|  10|Fokus dan eksposu...|     0.0|69.37662586918414|     85.14|\n",
      "|1121020006|  12|Desain grafis har...|     0.0|71.39293374117395|     71.33|\n",
      "|1121020006|  11|Saat mentransfer ...|     0.0|84.79248130763396|      82.9|\n",
      "+----------+----+--------------------+--------+-----------------+----------+\n",
      "\n"
     ]
    }
   ],
   "source": [
    "#lakukan prediksi dan penampilan pada data pengujian\n",
    "from pyspark.sql.functions import round\n",
    "\n",
    "predictions_testing_data_new = model.transform(data_final)\n",
    "predictions_testing_data_new = predictions_testing_data_new.withColumn(\"prediction\", round(predictions_testing_data_new\n",
    "                                                                                           [\"prediction\"], 2))\n",
    "\n",
    "predictions_testing_data_new.show()"
   ]
  },
  {
   "cell_type": "markdown",
   "id": "d540d59d",
   "metadata": {},
   "source": [
    "# Akurasi Model Data Uji Soal Baru"
   ]
  },
  {
   "cell_type": "code",
   "execution_count": 40,
   "id": "9bddb9ad",
   "metadata": {},
   "outputs": [
    {
     "name": "stderr",
     "output_type": "stream",
     "text": [
      "                                                                                \r"
     ]
    },
    {
     "name": "stdout",
     "output_type": "stream",
     "text": [
      "Root Mean Square Error (RMSE) :  14.128128002543683\n"
     ]
    }
   ],
   "source": [
    "from pyspark.ml.evaluation import RegressionEvaluator\n",
    "\n",
    "#perhitungan RMSE\n",
    "evaluator = RegressionEvaluator(metricName = \"rmse\", labelCol = \"true score\", predictionCol = \"prediction\")\n",
    "rmse = evaluator.evaluate(predictions_testing_data_new)\n",
    "\n",
    "#menampilkan hasil\n",
    "print(\"Root Mean Square Error (RMSE) : \", rmse)"
   ]
  },
  {
   "cell_type": "code",
   "execution_count": 42,
   "id": "6d8ff1f5",
   "metadata": {},
   "outputs": [
    {
     "name": "stdout",
     "output_type": "stream",
     "text": [
      "Prediksi Benar :  0 Total Data :  12 Akurasi :  0.0\n"
     ]
    }
   ],
   "source": [
    "correct_predictions = predictions_testing_data_new.filter(predictions_testing_data_new[\"prediction\"] == predictions_testing_data_new[\"true score\"])\n",
    "\n",
    "total_data = predictions_testing_data_new.count()\n",
    "correct_count = correct_predictions.count()  #menghitung jumlah prediksi yang benar\n",
    "\n",
    "accuracy = correct_count / total_data  #menghitung akurasi\n",
    "\n",
    "print(\"Prediksi Benar : \", correct_count, \n",
    "      \"Total Data : \", total_data,\n",
    "      \"Akurasi : \", accuracy)"
   ]
  },
  {
   "cell_type": "markdown",
   "id": "5824e9d0",
   "metadata": {},
   "source": [
    "# Automated Scoring System Menggunakan PySpark Dengan Hash"
   ]
  },
  {
   "cell_type": "code",
   "execution_count": 44,
   "id": "4d02dcaf",
   "metadata": {},
   "outputs": [
    {
     "name": "stderr",
     "output_type": "stream",
     "text": [
      "24/05/12 09:38:58 WARN SparkSession: Using an existing Spark session; only runtime SQL configurations will take effect.\n"
     ]
    },
    {
     "name": "stdout",
     "output_type": "stream",
     "text": [
      "Jumlah Data Training: 84\n",
      "Jumlah Data Training: 36\n",
      "+----------+----+-----------+----------+\n",
      "|npm       |soal|vektor hash|true score|\n",
      "+----------+----+-----------+----------+\n",
      "|0         |1   |-2059296905|100.0     |\n",
      "|0         |2   |1183180174 |100.0     |\n",
      "|0         |3   |1232762403 |100.0     |\n",
      "|0         |4   |-2035408785|100.0     |\n",
      "|0         |5   |1588395990 |100.0     |\n",
      "|0         |6   |339970513  |100.0     |\n",
      "|0         |7   |50850002   |100.0     |\n",
      "|0         |8   |-945877996 |100.0     |\n",
      "|0         |9   |1576366224 |100.0     |\n",
      "|0         |10  |-1905649442|100.0     |\n",
      "|0         |11  |550139146  |100.0     |\n",
      "|0         |12  |1727767227 |100.0     |\n",
      "|1121020033|1   |1947733435 |52.7      |\n",
      "|1121020033|2   |-1139863335|42.86     |\n",
      "|1121020033|3   |122676417  |42.16     |\n",
      "|1121020033|4   |-1054163002|27.19     |\n",
      "|1121020033|5   |1990940339 |44.14     |\n",
      "|1121020033|6   |1770907636 |100.0     |\n",
      "|1121020033|7   |-463479969 |57.68     |\n",
      "|1121020033|8   |-412537011 |45.71     |\n",
      "+----------+----+-----------+----------+\n",
      "only showing top 20 rows\n",
      "\n"
     ]
    }
   ],
   "source": [
    "from pyspark.sql import SparkSession\n",
    "from pyspark.ml.recommendation import ALS\n",
    "from pyspark.ml.evaluation import RegressionEvaluator\n",
    "from pyspark.sql.functions import hash\n",
    "import pandas as pd\n",
    "\n",
    "#inisialisasi SparkSession\n",
    "spark = SparkSession.builder \\\n",
    "    .appName(\"Automated Scoring System ALS (Hash)\") \\\n",
    "    .getOrCreate()\n",
    "\n",
    "#baca file excel menggunakan pandas dan buat dataframe Spark\n",
    "data = spark.createDataFrame(pd.read_excel(\"training_data_essay.xlsx\"))\n",
    "\n",
    "#ubah jawaban menjadi vektor hash\n",
    "hashed_data = data.withColumn(\"vektor hash\", hash(\"jawaban\")).select(\"npm\", \"soal\", \"vektor hash\", \n",
    "                                                                     col(\"skor_per_soal\").alias(\"true score\"))\n",
    "\n",
    "#membagi data menjadi data latih dan data uji\n",
    "(training_data, testing_data) = hashed_data.randomSplit([0.7, 0.3])\n",
    "print(\"Jumlah Data Training:\", training_data.count())\n",
    "print(\"Jumlah Data Training:\", testing_data.count())\n",
    "\n",
    "#membuat dan membangun model ALS\n",
    "model = ALS(maxIter=10, regParam=0.1, userCol=\"soal\", itemCol=\"vektor hash\", ratingCol=\"true score\").fit(\n",
    "    training_data)\n",
    "\n",
    "#memprediksi skor pada data uji\n",
    "predictions = model.transform(testing_data)\n",
    "\n",
    "#evaluasi kinerja model dengan RMSE\n",
    "rmse = RegressionEvaluator(metricName=\"rmse\", labelCol=\"true score\", predictionCol=\"prediction\").evaluate(\n",
    "    predictions)\n",
    "\n",
    "#menampilkan hasil hash\n",
    "hashed_data.select(\"npm\", \"soal\", \"vektor hash\", \"true score\").show(truncate=False)"
   ]
  },
  {
   "cell_type": "code",
   "execution_count": 52,
   "id": "01a50d8f",
   "metadata": {},
   "outputs": [
    {
     "name": "stdout",
     "output_type": "stream",
     "text": [
      "+----------+----+-----------+----------+----------+\n",
      "|       npm|soal|vektor hash|true score|prediction|\n",
      "+----------+----+-----------+----------+----------+\n",
      "|         0|   1|-2059296905|     100.0|       NaN|\n",
      "|         0|   5| 1588395990|     100.0|       NaN|\n",
      "|         0|   9| 1576366224|     100.0|       NaN|\n",
      "|         0|   8| -945877996|     100.0|       NaN|\n",
      "|         0|   7|   50850002|     100.0|       NaN|\n",
      "|         0|  11|  550139146|     100.0|       NaN|\n",
      "|         0|   2| 1183180174|     100.0|       NaN|\n",
      "|1121020033|   2|-1139863335|     42.86|       NaN|\n",
      "|1121020033|   6| 1770907636|     100.0|    100.00|\n",
      "|1220020029|   6| 1770907636|     100.0|    100.00|\n",
      "|1220020029|   3|  770340049|     91.71|     91.71|\n",
      "|1121020033|   5| 1990940339|     44.14|       NaN|\n",
      "|1220020018|   5|-1932865057|     74.73|     74.73|\n",
      "|1220020018|   9|-1019902387|     99.31|       NaN|\n",
      "|1220020029|   9|-1092404005|     84.88|     84.87|\n",
      "|1220020029|  10|-1672280317|     100.0|       NaN|\n",
      "|1220020029|  11| -271105210|     77.63|       NaN|\n",
      "|1220020018|   2| 1176853507|     100.0|    100.00|\n",
      "|1220020023|  12|-1335018086|     91.17|       NaN|\n",
      "|1220020023|   3|  770340049|     91.71|     91.71|\n",
      "|1220020023|   5|  -69276039|     90.27|       NaN|\n",
      "|1220020023|   9|  447829639|     65.89|     65.89|\n",
      "|1220020023|   7|-1392782412|     86.22|     86.21|\n",
      "|1220020023|  10|-1208312224|     90.14|       NaN|\n",
      "|1220020023|   2| 1176853507|     100.0|    100.00|\n",
      "|1120020017|   8| 1044171719|     89.17|     89.17|\n",
      "|1120020017|  10| 1988679646|     85.75|       NaN|\n",
      "|1120020017|  11|-1838887780|     80.09|     80.09|\n",
      "|1121020024|  12| 1086045397|     64.29|       NaN|\n",
      "|1121020036|   1| -256638840|     100.0|    100.00|\n",
      "|1121020036|   9|-1083923656|     84.88|       NaN|\n",
      "|1121020024|   7| 1123192925|     100.0|       NaN|\n",
      "|1121020024|  11| 1713927558|     98.35|       NaN|\n",
      "|1121020036|  12| -902409772|     86.53|     86.53|\n",
      "|1121020035|   1| -256638840|     100.0|    100.00|\n",
      "|1121020035|  11|-1994407618|     78.41|       NaN|\n",
      "+----------+----+-----------+----------+----------+\n",
      "\n"
     ]
    }
   ],
   "source": [
    "#menampilkan hasil prediksi pada data testing\n",
    "from pyspark.sql.functions import hash, col, format_number  \n",
    "\n",
    "predictions.select(\"npm\", \"soal\", \"vektor hash\", \"true score\", \n",
    "                   format_number(\"prediction\", 2).alias(\"prediction\")).show(36)"
   ]
  },
  {
   "cell_type": "code",
   "execution_count": 53,
   "id": "6bfaf922",
   "metadata": {},
   "outputs": [
    {
     "name": "stdout",
     "output_type": "stream",
     "text": [
      "Root Mean Squared Error (RMSE) pada data uji: nan\n"
     ]
    }
   ],
   "source": [
    "#akurasi data\n",
    "#rmse\n",
    "print(\"Root Mean Squared Error (RMSE) pada data uji:\", rmse)"
   ]
  },
  {
   "cell_type": "code",
   "execution_count": 55,
   "id": "ce490434",
   "metadata": {},
   "outputs": [
    {
     "name": "stdout",
     "output_type": "stream",
     "text": [
      "+----------+----+-----------+----------+----------+\n",
      "|       npm|soal|vektor hash|true score|prediction|\n",
      "+----------+----+-----------+----------+----------+\n",
      "|1121020033|   6| 1770907636|     100.0|    100.00|\n",
      "|1220020029|   6| 1770907636|     100.0|    100.00|\n",
      "|1220020029|   3|  770340049|     91.71|     91.71|\n",
      "|1220020018|   5|-1932865057|     74.73|     74.73|\n",
      "|1220020029|   9|-1092404005|     84.88|     84.87|\n",
      "|1220020018|   2| 1176853507|     100.0|    100.00|\n",
      "|1220020023|   3|  770340049|     91.71|     91.71|\n",
      "|1220020023|   9|  447829639|     65.89|     65.89|\n",
      "|1220020023|   7|-1392782412|     86.22|     86.21|\n",
      "|1220020023|   2| 1176853507|     100.0|    100.00|\n",
      "|1120020017|   8| 1044171719|     89.17|     89.17|\n",
      "|1120020017|  11|-1838887780|     80.09|     80.09|\n",
      "|1121020036|   1| -256638840|     100.0|    100.00|\n",
      "|1121020036|  12| -902409772|     86.53|     86.53|\n",
      "|1121020035|   1| -256638840|     100.0|    100.00|\n",
      "+----------+----+-----------+----------+----------+\n",
      "\n"
     ]
    }
   ],
   "source": [
    "#menghapus baris yang memiliki nilai prediksi nan agar bisa dihitung rmse\n",
    "predictions_without_nan = predictions.na.drop(subset=[\"prediction\"])\n",
    "predictions_without_nan.select(\"npm\", \"soal\", \"vektor hash\", \"true score\", \n",
    "                               format_number(\"prediction\", 2).alias(\"prediction\")).show()"
   ]
  },
  {
   "cell_type": "code",
   "execution_count": 58,
   "id": "499646dd",
   "metadata": {},
   "outputs": [
    {
     "name": "stdout",
     "output_type": "stream",
     "text": [
      "Root Mean Squared Error (RMSE) Setelah Menghapus NaN :  0.0039636533191873425\n"
     ]
    }
   ],
   "source": [
    "#rmse\n",
    "evaluator = RegressionEvaluator(metricName=\"rmse\", labelCol=\"true score\", predictionCol=\"prediction\")\n",
    "rmse = evaluator.evaluate(predictions_without_nan)\n",
    "\n",
    "print(\"Root Mean Squared Error (RMSE) Setelah Menghapus NaN : \", rmse)"
   ]
  },
  {
   "cell_type": "code",
   "execution_count": null,
   "id": "319b4213",
   "metadata": {},
   "outputs": [],
   "source": [
    "spark.stop()"
   ]
  }
 ],
 "metadata": {
  "kernelspec": {
   "display_name": "Python 3 (ipykernel)",
   "language": "python",
   "name": "python3"
  },
  "language_info": {
   "codemirror_mode": {
    "name": "ipython",
    "version": 3
   },
   "file_extension": ".py",
   "mimetype": "text/x-python",
   "name": "python",
   "nbconvert_exporter": "python",
   "pygments_lexer": "ipython3",
   "version": "3.11.5"
  }
 },
 "nbformat": 4,
 "nbformat_minor": 5
}
